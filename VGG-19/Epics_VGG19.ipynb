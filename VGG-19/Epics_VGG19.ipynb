{
  "cells": [
    {
      "cell_type": "code",
      "execution_count": 1,
      "metadata": {
        "id": "6SGxxG3rMj0r"
      },
      "outputs": [],
      "source": [
        "from tensorflow.keras.layers import Input, Lambda, Dense, Flatten\n",
        "from tensorflow.keras.models import Model\n",
        "#from tensorflow.keras.applications.inception_v3 import InceptionV3\n",
        "from tensorflow.keras.applications.resnet_v2 import ResNet152V2, preprocess_input\n",
        "from tensorflow.keras.preprocessing import image\n",
        "from tensorflow.keras.preprocessing.image import ImageDataGenerator,load_img\n",
        "from tensorflow.keras.models import Sequential\n",
        "import numpy as np\n",
        "from glob import glob\n",
        "#from tensorflow.keras.applications.mobilenet_v3 import MobileNetV3\n",
        "import matplotlib.pyplot as plt\n",
        "from tensorflow.keras.applications.vgg19 import VGG19"
      ]
    },
    {
      "cell_type": "code",
      "execution_count": 2,
      "metadata": {
        "id": "MTCZn393Mtnh"
      },
      "outputs": [],
      "source": [
        "IMAGE_SIZE = [224, 224]\n",
        "\n",
        "train_path = '/content/drive/MyDrive/dataset/Training'\n",
        "valid_path = '/content/drive/MyDrive/dataset/Testing'"
      ]
    },
    {
      "cell_type": "code",
      "execution_count": 3,
      "metadata": {
        "id": "wJExZOckMtlK",
        "colab": {
          "base_uri": "https://localhost:8080/"
        },
        "outputId": "f858a729-2f1d-44db-fc18-105d152fd68c"
      },
      "outputs": [
        {
          "output_type": "stream",
          "name": "stdout",
          "text": [
            "Downloading data from https://storage.googleapis.com/tensorflow/keras-applications/vgg19/vgg19_weights_tf_dim_ordering_tf_kernels_notop.h5\n",
            "80134624/80134624 [==============================] - 1s 0us/step\n"
          ]
        }
      ],
      "source": [
        "vgg19 = VGG19(input_shape=IMAGE_SIZE + [3], weights='imagenet', include_top=False)"
      ]
    },
    {
      "cell_type": "code",
      "execution_count": 4,
      "metadata": {
        "id": "kb5dCxJXMtij"
      },
      "outputs": [],
      "source": [
        "for layer in vgg19.layers:\n",
        "    layer.trainable = False"
      ]
    },
    {
      "cell_type": "code",
      "execution_count": 5,
      "metadata": {
        "id": "TLzEocdvMtgN"
      },
      "outputs": [],
      "source": [
        "folders = glob('/content/drive/MyDrive/dataset/Training/*')"
      ]
    },
    {
      "cell_type": "code",
      "execution_count": 6,
      "metadata": {
        "id": "g61z5lsZMtdm"
      },
      "outputs": [],
      "source": [
        "x = Flatten()(vgg19.output)"
      ]
    },
    {
      "cell_type": "code",
      "execution_count": 7,
      "metadata": {
        "id": "Yy45aZANMtbA"
      },
      "outputs": [],
      "source": [
        "prediction = Dense(len(folders), activation='softmax')(x)\n",
        "model = Model(inputs=vgg19.input, outputs=prediction)"
      ]
    },
    {
      "cell_type": "code",
      "execution_count": 8,
      "metadata": {
        "colab": {
          "base_uri": "https://localhost:8080/"
        },
        "id": "qcZEOAv1MtYp",
        "outputId": "addb7b9a-7f14-4c0e-8309-5bf4e65ca7b3"
      },
      "outputs": [
        {
          "output_type": "stream",
          "name": "stdout",
          "text": [
            "Model: \"model\"\n",
            "_________________________________________________________________\n",
            " Layer (type)                Output Shape              Param #   \n",
            "=================================================================\n",
            " input_1 (InputLayer)        [(None, 224, 224, 3)]     0         \n",
            "                                                                 \n",
            " block1_conv1 (Conv2D)       (None, 224, 224, 64)      1792      \n",
            "                                                                 \n",
            " block1_conv2 (Conv2D)       (None, 224, 224, 64)      36928     \n",
            "                                                                 \n",
            " block1_pool (MaxPooling2D)  (None, 112, 112, 64)      0         \n",
            "                                                                 \n",
            " block2_conv1 (Conv2D)       (None, 112, 112, 128)     73856     \n",
            "                                                                 \n",
            " block2_conv2 (Conv2D)       (None, 112, 112, 128)     147584    \n",
            "                                                                 \n",
            " block2_pool (MaxPooling2D)  (None, 56, 56, 128)       0         \n",
            "                                                                 \n",
            " block3_conv1 (Conv2D)       (None, 56, 56, 256)       295168    \n",
            "                                                                 \n",
            " block3_conv2 (Conv2D)       (None, 56, 56, 256)       590080    \n",
            "                                                                 \n",
            " block3_conv3 (Conv2D)       (None, 56, 56, 256)       590080    \n",
            "                                                                 \n",
            " block3_conv4 (Conv2D)       (None, 56, 56, 256)       590080    \n",
            "                                                                 \n",
            " block3_pool (MaxPooling2D)  (None, 28, 28, 256)       0         \n",
            "                                                                 \n",
            " block4_conv1 (Conv2D)       (None, 28, 28, 512)       1180160   \n",
            "                                                                 \n",
            " block4_conv2 (Conv2D)       (None, 28, 28, 512)       2359808   \n",
            "                                                                 \n",
            " block4_conv3 (Conv2D)       (None, 28, 28, 512)       2359808   \n",
            "                                                                 \n",
            " block4_conv4 (Conv2D)       (None, 28, 28, 512)       2359808   \n",
            "                                                                 \n",
            " block4_pool (MaxPooling2D)  (None, 14, 14, 512)       0         \n",
            "                                                                 \n",
            " block5_conv1 (Conv2D)       (None, 14, 14, 512)       2359808   \n",
            "                                                                 \n",
            " block5_conv2 (Conv2D)       (None, 14, 14, 512)       2359808   \n",
            "                                                                 \n",
            " block5_conv3 (Conv2D)       (None, 14, 14, 512)       2359808   \n",
            "                                                                 \n",
            " block5_conv4 (Conv2D)       (None, 14, 14, 512)       2359808   \n",
            "                                                                 \n",
            " block5_pool (MaxPooling2D)  (None, 7, 7, 512)         0         \n",
            "                                                                 \n",
            " flatten (Flatten)           (None, 25088)             0         \n",
            "                                                                 \n",
            " dense (Dense)               (None, 3)                 75267     \n",
            "                                                                 \n",
            "=================================================================\n",
            "Total params: 20099651 (76.67 MB)\n",
            "Trainable params: 75267 (294.01 KB)\n",
            "Non-trainable params: 20024384 (76.39 MB)\n",
            "_________________________________________________________________\n"
          ]
        }
      ],
      "source": [
        "model.summary()"
      ]
    },
    {
      "cell_type": "code",
      "execution_count": 9,
      "metadata": {
        "id": "uiAsFLjOMtWV"
      },
      "outputs": [],
      "source": [
        "model.compile(\n",
        "  loss='categorical_crossentropy',\n",
        "  optimizer='adam',\n",
        "  metrics=['accuracy']\n",
        ")"
      ]
    },
    {
      "cell_type": "code",
      "execution_count": 10,
      "metadata": {
        "id": "4XnTKg_fMtQV"
      },
      "outputs": [],
      "source": [
        "from tensorflow.keras.preprocessing.image import ImageDataGenerator\n",
        "\n",
        "train_datagen = ImageDataGenerator(rescale = 1./255,\n",
        "                                   shear_range = 0.2,\n",
        "                                   zoom_range = 0.2,\n",
        "                                   horizontal_flip = True)\n",
        "\n",
        "test_datagen = ImageDataGenerator(rescale = 1./255)"
      ]
    },
    {
      "cell_type": "code",
      "execution_count": 11,
      "metadata": {
        "colab": {
          "base_uri": "https://localhost:8080/"
        },
        "id": "cZqP93JIMtN-",
        "outputId": "bf02121b-a2f3-4cf3-b6ae-f4973fb6d5e2"
      },
      "outputs": [
        {
          "output_type": "stream",
          "name": "stdout",
          "text": [
            "Found 1244 images belonging to 3 classes.\n"
          ]
        }
      ],
      "source": [
        "training_set = train_datagen.flow_from_directory('/content/drive/MyDrive/dataset/Training',\n",
        "                                                 target_size = (224, 224),\n",
        "                                                 batch_size = 50,\n",
        "                                                 class_mode = 'categorical')"
      ]
    },
    {
      "cell_type": "code",
      "execution_count": 12,
      "metadata": {
        "colab": {
          "base_uri": "https://localhost:8080/"
        },
        "id": "7V_xvTQ4MtL6",
        "outputId": "efeb04b3-9d9d-4708-cf02-5e41b6ded546"
      },
      "outputs": [
        {
          "output_type": "stream",
          "name": "stdout",
          "text": [
            "Found 539 images belonging to 3 classes.\n"
          ]
        }
      ],
      "source": [
        "test_set = test_datagen.flow_from_directory('/content/drive/MyDrive/dataset/Testing',\n",
        "                                            target_size = (224, 224),\n",
        "                                            batch_size = 50,\n",
        "                                            class_mode = 'categorical')"
      ]
    },
    {
      "cell_type": "code",
      "execution_count": 13,
      "metadata": {
        "colab": {
          "base_uri": "https://localhost:8080/"
        },
        "id": "Rh52NpT6MtJj",
        "outputId": "c953246b-2318-40b0-e034-502277b6ecc0"
      },
      "outputs": [
        {
          "output_type": "stream",
          "name": "stdout",
          "text": [
            "Epoch 1/5\n",
            "25/25 [==============================] - 421s 17s/step - loss: 1.0551 - accuracy: 0.5844 - val_loss: 0.8126 - val_accuracy: 0.7273\n",
            "Epoch 2/5\n",
            "25/25 [==============================] - 39s 2s/step - loss: 0.4563 - accuracy: 0.8304 - val_loss: 0.6706 - val_accuracy: 0.7607\n",
            "Epoch 3/5\n",
            "25/25 [==============================] - 40s 2s/step - loss: 0.3678 - accuracy: 0.8722 - val_loss: 0.6561 - val_accuracy: 0.7551\n",
            "Epoch 4/5\n",
            "25/25 [==============================] - 38s 2s/step - loss: 0.3142 - accuracy: 0.8842 - val_loss: 0.6703 - val_accuracy: 0.7607\n",
            "Epoch 5/5\n",
            "25/25 [==============================] - 39s 2s/step - loss: 0.2553 - accuracy: 0.9116 - val_loss: 0.6915 - val_accuracy: 0.7737\n"
          ]
        }
      ],
      "source": [
        "r = model.fit(\n",
        "  training_set,\n",
        "  validation_data=test_set,\n",
        "  epochs=5,\n",
        "  steps_per_epoch=len(training_set),\n",
        "  validation_steps=len(test_set)\n",
        ")"
      ]
    },
    {
      "cell_type": "code",
      "execution_count": 14,
      "metadata": {
        "colab": {
          "base_uri": "https://localhost:8080/",
          "height": 861
        },
        "id": "xnmPgOlnMtHN",
        "outputId": "20e7d5ae-54d1-4187-b251-81b671ecbe9c"
      },
      "outputs": [
        {
          "output_type": "display_data",
          "data": {
            "text/plain": [
              "<Figure size 640x480 with 1 Axes>"
            ],
            "image/png": "[encoded data removed]"
          },
          "metadata": {}
        },
        {
          "output_type": "display_data",
          "data": {
            "text/plain": [
              "<Figure size 640x480 with 1 Axes>"
            ],
            "image/png": "[encoded data removed]"
          },
          "metadata": {}
        },
        {
          "output_type": "display_data",
          "data": {
            "text/plain": [
              "<Figure size 640x480 with 0 Axes>"
            ]
          },
          "metadata": {}
        }
      ],
      "source": [
        "plt.plot(r.history['loss'], label='train loss')\n",
        "plt.plot(r.history['val_loss'], label='val loss')\n",
        "plt.legend()\n",
        "plt.show()\n",
        "plt.savefig('LossVal_loss')\n",
        "plt.plot(r.history['accuracy'], label='train acc')\n",
        "plt.plot(r.history['val_accuracy'], label='val acc')\n",
        "plt.legend()\n",
        "plt.show()\n",
        "plt.savefig('AccVal_acc')"
      ]
    },
    {
      "cell_type": "code",
      "execution_count": 15,
      "metadata": {
        "colab": {
          "base_uri": "https://localhost:8080/"
        },
        "id": "rAYZnQ3FMtEV",
        "outputId": "38eef4f8-927e-4e70-a45c-b2b88a2b9798"
      },
      "outputs": [
        {
          "output_type": "stream",
          "name": "stderr",
          "text": [
            "/usr/local/lib/python3.10/dist-packages/keras/src/engine/training.py:3103: UserWarning: You are saving your model as an HDF5 file via `model.save()`. This file format is considered legacy. We recommend using instead the native Keras format, e.g. `model.save('my_model.keras')`.\n",
            "  saving_api.save_model(\n"
          ]
        }
      ],
      "source": [
        "from tensorflow.keras.models import load_model\n",
        "\n",
        "model.save('/content/drive/MyDrive/dataset/model/vgg16model.h5')"
      ]
    },
    {
      "cell_type": "code",
      "execution_count": 16,
      "metadata": {
        "colab": {
          "base_uri": "https://localhost:8080/"
        },
        "id": "BQZvccmxMtBi",
        "outputId": "50d02d9d-8354-4a19-a893-78fa7d9d9be0"
      },
      "outputs": [
        {
          "output_type": "stream",
          "name": "stdout",
          "text": [
            "11/11 [==============================] - 9s 810ms/step\n"
          ]
        }
      ],
      "source": [
        "y_pred = model.predict(test_set)"
      ]
    },
    {
      "cell_type": "code",
      "execution_count": 17,
      "metadata": {
        "colab": {
          "base_uri": "https://localhost:8080/"
        },
        "id": "Fnqwo8uwRRik",
        "outputId": "e37d68d3-fe87-4864-a944-8c6091cf934c"
      },
      "outputs": [
        {
          "output_type": "execute_result",
          "data": {
            "text/plain": [
              "array([[0.16542168, 0.73358244, 0.10099594],\n",
              "       [0.01468113, 0.01166494, 0.9736539 ],\n",
              "       [0.00311022, 0.9836258 , 0.01326389],\n",
              "       ...,\n",
              "       [0.082251  , 0.53744173, 0.3803073 ],\n",
              "       [0.97877836, 0.01200214, 0.00921959],\n",
              "       [0.02001114, 0.06380229, 0.9161866 ]], dtype=float32)"
            ]
          },
          "metadata": {},
          "execution_count": 17
        }
      ],
      "source": [
        "y_pred"
      ]
    },
    {
      "cell_type": "code",
      "execution_count": 18,
      "metadata": {
        "id": "zsoXrh79RRgf"
      },
      "outputs": [],
      "source": [
        "import numpy as np\n",
        "y_pred = np.argmax(y_pred, axis=1)"
      ]
    },
    {
      "cell_type": "code",
      "execution_count": 22,
      "metadata": {
        "colab": {
          "base_uri": "https://localhost:8080/"
        },
        "id": "qWCiRwqmRReI",
        "outputId": "54068f0a-002e-4552-9b19-8c6c595067d9"
      },
      "outputs": [
        {
          "output_type": "stream",
          "name": "stdout",
          "text": [
            "Red Rot Red Rust Red Rot Healthy Red Rot Red Rust Red Rot Healthy Red Rot Red Rust Healthy Red Rot Red Rust Red Rust Red Rot Healthy Healthy Red Rot Healthy Healthy Red Rot Red Rust Red Rust Red Rot Red Rot Red Rot Red Rot Red Rot Healthy Red Rot Red Rot Healthy Healthy Red Rot Red Rust Red Rot Red Rot Red Rot Healthy Red Rot Red Rust Red Rust Red Rot Red Rot Red Rot Red Rust Red Rust Healthy Red Rust Red Rot Red Rot Red Rust Red Rot Red Rot Red Rot Healthy Healthy Red Rot Red Rust Red Rust Red Rot Red Rust Red Rust Red Rot Red Rot Red Rust Red Rust Red Rot Red Rust Red Rust Red Rot Red Rust Healthy Red Rust Healthy Red Rust Healthy Red Rust Healthy Red Rot Healthy Red Rot Red Rot Healthy Red Rot Healthy Red Rot Red Rot Red Rust Red Rust Red Rot Red Rot Red Rust Red Rot Red Rot Red Rust Healthy Red Rot Red Rot Red Rot Red Rot Red Rot Red Rust Red Rust Red Rust Red Rot Red Rust Red Rot Red Rot Red Rot Red Rot Healthy Healthy Red Rust Red Rust Red Rot Red Rot Red Rust Healthy Red Rust Red Rot Red Rust Red Rot Red Rust Healthy Red Rot Red Rot Red Rust Healthy Red Rot Red Rot Red Rot Red Rust Healthy Healthy Red Rot Healthy Red Rust Healthy Red Rust Red Rust Healthy Red Rot Healthy Red Rust Red Rot Red Rot Red Rust Red Rust Healthy Healthy Healthy Healthy Red Rust Red Rust Healthy Red Rust Red Rust Red Rot Red Rot Red Rot Red Rot Healthy Red Rot Red Rot Red Rust Red Rot Red Rot Healthy Red Rust Red Rust Red Rot Red Rust Red Rust Red Rust Red Rot Red Rot Healthy Red Rust Healthy Red Rot Red Rot Healthy Red Rust Red Rot Healthy Healthy Red Rot Healthy Red Rust Red Rust Red Rust Red Rust Red Rot Red Rot Red Rot Red Rust Healthy Red Rust Red Rot Red Rust Red Rot Healthy Red Rust Red Rot Red Rust Red Rot Healthy Red Rust Red Rot Healthy Red Rot Healthy Red Rust Red Rust Healthy Red Rot Red Rust Healthy Red Rust Healthy Red Rust Red Rot Red Rot Red Rot Healthy Red Rust Healthy Red Rust Red Rust Red Rust Red Rust Red Rot Red Rot Healthy Healthy Red Rust Red Rust Healthy Healthy Red Rust Red Rot Red Rust Red Rot Red Rust Red Rust Red Rot Red Rot Red Rot Red Rust Red Rust Healthy Red Rust Healthy Healthy Red Rust Red Rot Red Rust Red Rust Healthy Red Rust Red Rust Red Rust Red Rust Healthy Red Rot Healthy Red Rust Red Rot Red Rot Healthy Red Rust Healthy Red Rot Red Rot Red Rot Red Rot Red Rot Red Rot Red Rot Healthy Red Rust Red Rot Healthy Red Rust Healthy Healthy Red Rot Healthy Healthy Healthy Healthy Healthy Red Rot Healthy Healthy Red Rust Healthy Red Rot Red Rot Red Rot Healthy Red Rust Healthy Healthy Red Rust Red Rust Red Rot Red Rot Healthy Red Rust Red Rot Healthy Red Rot Red Rot Red Rust Red Rot Red Rot Red Rust Red Rust Healthy Red Rust Red Rot Red Rot Red Rust Red Rust Healthy Red Rot Healthy Red Rust Red Rot Healthy Healthy Healthy Red Rust Red Rot Red Rot Red Rust Red Rust Healthy Healthy Red Rot Red Rust Healthy Red Rust Red Rust Healthy Red Rust Healthy Red Rot Red Rot Red Rot Red Rust Healthy Red Rot Red Rot Red Rot Red Rot Red Rot Red Rust Red Rust Red Rust Red Rust Red Rot Healthy Red Rot Red Rot Red Rust Red Rot Healthy Red Rot Red Rot Red Rust Red Rust Red Rot Red Rust Healthy Red Rot Healthy Healthy Red Rot Red Rot Red Rust Red Rot Red Rust Healthy Red Rust Red Rot Red Rust Red Rust Red Rot Red Rot Red Rot Red Rust Red Rot Red Rust Healthy Healthy Healthy Red Rot Healthy Red Rot Healthy Healthy Red Rot Red Rot Red Rust Red Rust Red Rust Red Rot Healthy Red Rot Healthy Healthy Red Rot Red Rot Healthy Healthy Red Rust Red Rot Healthy Red Rust Healthy Red Rot Red Rust Red Rust Red Rot Red Rust Red Rot Red Rust Red Rot Red Rot Red Rust Red Rust Red Rust Red Rot Red Rot Red Rot Red Rot Red Rust Red Rot Red Rust Healthy Healthy Healthy Red Rot Healthy Healthy Red Rust Red Rot Healthy Healthy Red Rust Red Rust Healthy Red Rust Healthy Red Rot Red Rot Red Rot Red Rot Red Rot Healthy Red Rust Healthy Red Rot Red Rot Red Rot Healthy Red Rot Red Rot Red Rot Red Rust Red Rust Red Rust Healthy Red Rot Healthy Red Rust Red Rot Red Rust Red Rust Red Rust Red Rot Healthy Red Rot Red Rust Red Rust Healthy Red Rot Red Rot Red Rust Red Rot Red Rust Red Rot Healthy Healthy Red Rot Healthy Red Rust Healthy Healthy Healthy Healthy Red Rust Red Rust Red Rust Red Rust Red Rot Red Rust Red Rust Red Rot Red Rust Healthy Red Rust Red Rust Red Rot Healthy Red Rust Red Rot Red Rust Red Rot Red Rust Red Rust Red Rust Healthy Red Rot Red Rust Healthy Healthy Red Rust Red Rot Healthy Red Rust Healthy Healthy Red Rot Healthy Red Rust "
          ]
        }
      ],
      "source": [
        "y_pred\n",
        "l=['Healthy', 'Red Rot', 'Red Rust']\n",
        "for i in y_pred:\n",
        "     print(l[i], end=' ')"
      ]
    },
    {
      "cell_type": "code",
      "execution_count": 22,
      "metadata": {
        "id": "D5NwMgMTRRb4"
      },
      "outputs": [],
      "source": []
    },
    {
      "cell_type": "code",
      "execution_count": 23,
      "metadata": {
        "id": "6u8-RBceRRZJ"
      },
      "outputs": [],
      "source": [
        "from tensorflow.keras.models import load_model\n",
        "from tensorflow.keras.preprocessing import image"
      ]
    },
    {
      "cell_type": "code",
      "execution_count": 24,
      "metadata": {
        "id": "tpD-LGhjRz_R"
      },
      "outputs": [],
      "source": [
        "img=image.load_img('/content/drive/MyDrive/rust (365).jpeg',target_size=(224,224))"
      ]
    },
    {
      "cell_type": "code",
      "execution_count": 25,
      "metadata": {
        "colab": {
          "base_uri": "https://localhost:8080/"
        },
        "id": "NccCgK8hRz85",
        "outputId": "db53fb6c-c245-4845-fa4a-430271ae51e6"
      },
      "outputs": [
        {
          "output_type": "execute_result",
          "data": {
            "text/plain": [
              "array([[[104., 101.,  86.],\n",
              "        [ 28.,  22.,   8.],\n",
              "        [ 30.,  21.,  12.],\n",
              "        ...,\n",
              "        [183., 205., 169.],\n",
              "        [183., 205., 167.],\n",
              "        [189., 211., 172.]],\n",
              "\n",
              "       [[104.,  98.,  86.],\n",
              "        [ 42.,  34.,  23.],\n",
              "        [ 36.,  23.,  14.],\n",
              "        ...,\n",
              "        [185., 207., 171.],\n",
              "        [184., 206., 170.],\n",
              "        [179., 201., 163.]],\n",
              "\n",
              "       [[ 68.,  61.,  51.],\n",
              "        [ 51.,  44.,  34.],\n",
              "        [ 42.,  32.,  22.],\n",
              "        ...,\n",
              "        [182., 203., 170.],\n",
              "        [179., 200., 167.],\n",
              "        [174., 196., 160.]],\n",
              "\n",
              "       ...,\n",
              "\n",
              "       [[138., 158., 121.],\n",
              "        [139., 160., 121.],\n",
              "        [145., 163., 121.],\n",
              "        ...,\n",
              "        [102.,  67.,  37.],\n",
              "        [103.,  66.,  37.],\n",
              "        [103.,  64.,  35.]],\n",
              "\n",
              "       [[143., 161., 121.],\n",
              "        [143., 160., 116.],\n",
              "        [143., 159., 114.],\n",
              "        ...,\n",
              "        [100.,  65.,  35.],\n",
              "        [101.,  64.,  35.],\n",
              "        [103.,  64.,  35.]],\n",
              "\n",
              "       [[145., 160., 119.],\n",
              "        [147., 158., 116.],\n",
              "        [152., 159., 115.],\n",
              "        ...,\n",
              "        [102.,  67.,  37.],\n",
              "        [105.,  68.,  39.],\n",
              "        [104.,  65.,  36.]]], dtype=float32)"
            ]
          },
          "metadata": {},
          "execution_count": 25
        }
      ],
      "source": [
        "x=image.img_to_array(img)\n",
        "x"
      ]
    },
    {
      "cell_type": "code",
      "execution_count": 26,
      "metadata": {
        "colab": {
          "base_uri": "https://localhost:8080/"
        },
        "id": "oJy0R68HRz5_",
        "outputId": "31d27aa7-ca10-4d0c-e465-76099e8fe525"
      },
      "outputs": [
        {
          "output_type": "execute_result",
          "data": {
            "text/plain": [
              "(224, 224, 3)"
            ]
          },
          "metadata": {},
          "execution_count": 26
        }
      ],
      "source": [
        "x.shape"
      ]
    },
    {
      "cell_type": "code",
      "execution_count": 27,
      "metadata": {
        "colab": {
          "base_uri": "https://localhost:8080/"
        },
        "id": "YIbn34JyRz36",
        "outputId": "6dbfacf7-2bdb-41ae-f80a-2da8143acc42"
      },
      "outputs": [
        {
          "output_type": "execute_result",
          "data": {
            "text/plain": [
              "array([[[0.40784314, 0.39607844, 0.3372549 ],\n",
              "        [0.10980392, 0.08627451, 0.03137255],\n",
              "        [0.11764706, 0.08235294, 0.04705882],\n",
              "        ...,\n",
              "        [0.7176471 , 0.8039216 , 0.6627451 ],\n",
              "        [0.7176471 , 0.8039216 , 0.654902  ],\n",
              "        [0.7411765 , 0.827451  , 0.6745098 ]],\n",
              "\n",
              "       [[0.40784314, 0.38431373, 0.3372549 ],\n",
              "        [0.16470589, 0.13333334, 0.09019608],\n",
              "        [0.14117648, 0.09019608, 0.05490196],\n",
              "        ...,\n",
              "        [0.7254902 , 0.8117647 , 0.67058825],\n",
              "        [0.72156864, 0.80784315, 0.6666667 ],\n",
              "        [0.7019608 , 0.7882353 , 0.6392157 ]],\n",
              "\n",
              "       [[0.26666668, 0.23921569, 0.2       ],\n",
              "        [0.2       , 0.17254902, 0.13333334],\n",
              "        [0.16470589, 0.1254902 , 0.08627451],\n",
              "        ...,\n",
              "        [0.7137255 , 0.79607844, 0.6666667 ],\n",
              "        [0.7019608 , 0.78431374, 0.654902  ],\n",
              "        [0.68235296, 0.76862746, 0.627451  ]],\n",
              "\n",
              "       ...,\n",
              "\n",
              "       [[0.5411765 , 0.61960787, 0.4745098 ],\n",
              "        [0.54509807, 0.627451  , 0.4745098 ],\n",
              "        [0.5686275 , 0.6392157 , 0.4745098 ],\n",
              "        ...,\n",
              "        [0.4       , 0.2627451 , 0.14509805],\n",
              "        [0.40392157, 0.25882354, 0.14509805],\n",
              "        [0.40392157, 0.2509804 , 0.13725491]],\n",
              "\n",
              "       [[0.56078434, 0.6313726 , 0.4745098 ],\n",
              "        [0.56078434, 0.627451  , 0.45490196],\n",
              "        [0.56078434, 0.62352943, 0.44705883],\n",
              "        ...,\n",
              "        [0.39215687, 0.25490198, 0.13725491],\n",
              "        [0.39607844, 0.2509804 , 0.13725491],\n",
              "        [0.40392157, 0.2509804 , 0.13725491]],\n",
              "\n",
              "       [[0.5686275 , 0.627451  , 0.46666667],\n",
              "        [0.5764706 , 0.61960787, 0.45490196],\n",
              "        [0.59607846, 0.62352943, 0.4509804 ],\n",
              "        ...,\n",
              "        [0.4       , 0.2627451 , 0.14509805],\n",
              "        [0.4117647 , 0.26666668, 0.15294118],\n",
              "        [0.40784314, 0.25490198, 0.14117648]]], dtype=float32)"
            ]
          },
          "metadata": {},
          "execution_count": 27
        }
      ],
      "source": [
        "x=x/255\n",
        "x"
      ]
    },
    {
      "cell_type": "code",
      "execution_count": 28,
      "metadata": {
        "colab": {
          "base_uri": "https://localhost:8080/"
        },
        "id": "7WD_IDlCR5zU",
        "outputId": "9c23c88b-0a1e-4dff-c5d0-ebb62251040e"
      },
      "outputs": [
        {
          "output_type": "execute_result",
          "data": {
            "text/plain": [
              "(1, 224, 224, 3)"
            ]
          },
          "metadata": {},
          "execution_count": 28
        }
      ],
      "source": [
        "import numpy as np\n",
        "x=np.expand_dims(x,axis=0)\n",
        "img_data=preprocess_input(x)\n",
        "img_data.shape"
      ]
    },
    {
      "cell_type": "code",
      "execution_count": 29,
      "metadata": {
        "colab": {
          "base_uri": "https://localhost:8080/"
        },
        "id": "KODkNhm8R5tG",
        "outputId": "fed76855-8f9d-4e2e-c4cd-0c8d516a74d5"
      },
      "outputs": [
        {
          "output_type": "stream",
          "name": "stdout",
          "text": [
            "1/1 [==============================] - 1s 1s/step\n"
          ]
        },
        {
          "output_type": "execute_result",
          "data": {
            "text/plain": [
              "array([[0.7999297 , 0.15598084, 0.04408949]], dtype=float32)"
            ]
          },
          "metadata": {},
          "execution_count": 29
        }
      ],
      "source": [
        "model.predict(img_data)"
      ]
    },
    {
      "cell_type": "code",
      "execution_count": 30,
      "metadata": {
        "colab": {
          "base_uri": "https://localhost:8080/"
        },
        "id": "5duuTTrGR5qe",
        "outputId": "6c087a72-7ca4-4f49-c7c1-3c000c021865"
      },
      "outputs": [
        {
          "output_type": "stream",
          "name": "stdout",
          "text": [
            "1/1 [==============================] - 0s 22ms/step\n"
          ]
        }
      ],
      "source": [
        "a=np.argmax(model.predict(img_data), axis=1)"
      ]
    },
    {
      "cell_type": "code",
      "execution_count": 31,
      "metadata": {
        "colab": {
          "base_uri": "https://localhost:8080/"
        },
        "id": "HYHwIeMBSAio",
        "outputId": "5964a5df-e9cb-41a1-ba33-916c7f24ab64"
      },
      "outputs": [
        {
          "output_type": "execute_result",
          "data": {
            "text/plain": [
              "array([False])"
            ]
          },
          "metadata": {},
          "execution_count": 31
        }
      ],
      "source": [
        "a==1"
      ]
    },
    {
      "cell_type": "code",
      "execution_count": 32,
      "metadata": {
        "id": "Y8_MyLw8SAY9"
      },
      "outputs": [],
      "source": [
        "import tensorflow as tf"
      ]
    },
    {
      "cell_type": "code",
      "execution_count": 33,
      "metadata": {
        "id": "bE_IR__XSGc1"
      },
      "outputs": [],
      "source": [
        "def model_predict(img_path, model):\n",
        "    print(img_path)\n",
        "    img = image.load_img(img_path, target_size=(224, 224))\n",
        "    x = image.img_to_array(img)\n",
        "    x=x/255\n",
        "    x = np.expand_dims(x, axis=0)\n",
        "    preds = model.predict(x)\n",
        "    preds=np.argmax(preds, axis=1)\n",
        "    l=['Healthy', 'Red Rot', 'Red Rust']\n",
        "    print('Disease : ',l[int(preds)].upper())"
      ]
    },
    {
      "cell_type": "code",
      "execution_count": 34,
      "metadata": {
        "colab": {
          "base_uri": "https://localhost:8080/"
        },
        "id": "Jx5h7eU4SGZ-",
        "outputId": "e6eec13f-57b1-4ae6-fde7-a008122a90bb"
      },
      "outputs": [
        {
          "output_type": "stream",
          "name": "stdout",
          "text": [
            "Enter the testing image path: /content/drive/MyDrive/rust (365).jpeg\n",
            "/content/drive/MyDrive/rust (365).jpeg\n",
            "1/1 [==============================] - 0s 21ms/step\n",
            "Disease :  RED RUST\n"
          ]
        },
        {
          "output_type": "stream",
          "name": "stderr",
          "text": [
            "<ipython-input-33-0b747c7ed2d9>:10: DeprecationWarning: Conversion of an array with ndim > 0 to a scalar is deprecated, and will error in future. Ensure you extract a single element from your array before performing this operation. (Deprecated NumPy 1.25.)\n",
            "  print('Disease : ',l[int(preds)].upper())\n"
          ]
        }
      ],
      "source": [
        "img_path=input('Enter the testing image path: ')\n",
        "preds = model_predict(img_path, model)\n",
        "preds"
      ]
    },
    {
      "cell_type": "code",
      "execution_count": null,
      "metadata": {
        "id": "ByVPscjgSGXP"
      },
      "outputs": [],
      "source": [
        "/content/drive/MyDrive/rust (365).jpeg"
      ]
    }
  ],
  "metadata": {
    "accelerator": "GPU",
    "colab": {
      "gpuType": "T4",
      "provenance": []
    },
    "kernelspec": {
      "display_name": "Python 3",
      "name": "python3"
    },
    "language_info": {
      "name": "python"
    }
  },
  "nbformat": 4,
  "nbformat_minor": 0
}